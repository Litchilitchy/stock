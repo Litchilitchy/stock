{
 "cells": [
  {
   "cell_type": "code",
   "execution_count": 63,
   "metadata": {},
   "outputs": [
    {
     "data": {
      "text/plain": [
       "<Figure size 1152x576 with 0 Axes>"
      ]
     },
     "execution_count": 63,
     "metadata": {},
     "output_type": "execute_result"
    },
    {
     "data": {
      "text/plain": [
       "<Figure size 1152x576 with 0 Axes>"
      ]
     },
     "metadata": {},
     "output_type": "display_data"
    }
   ],
   "source": [
    "import quandl\n",
    "\n",
    "#import packages\n",
    "import pandas as pd\n",
    "import numpy as np\n",
    "\n",
    "#to plot within notebook\n",
    "import matplotlib.pyplot as plt\n",
    "%matplotlib inline\n",
    "\n",
    "#setting figure size\n",
    "from matplotlib.pylab import rcParams\n",
    "rcParams['figure.figsize'] = 20,10\n",
    "plt.figure(figsize=(16,8))"
   ]
  },
  {
   "cell_type": "markdown",
   "metadata": {},
   "source": [
    "This time we get 3 different stocks"
   ]
  },
  {
   "cell_type": "code",
   "execution_count": 2,
   "metadata": {},
   "outputs": [
    {
     "data": {
      "text/html": [
       "<div>\n",
       "<style scoped>\n",
       "    .dataframe tbody tr th:only-of-type {\n",
       "        vertical-align: middle;\n",
       "    }\n",
       "\n",
       "    .dataframe tbody tr th {\n",
       "        vertical-align: top;\n",
       "    }\n",
       "\n",
       "    .dataframe thead th {\n",
       "        text-align: right;\n",
       "    }\n",
       "</style>\n",
       "<table border=\"1\" class=\"dataframe\">\n",
       "  <thead>\n",
       "    <tr style=\"text-align: right;\">\n",
       "      <th></th>\n",
       "      <th>Open</th>\n",
       "      <th>High</th>\n",
       "      <th>Low</th>\n",
       "      <th>Close</th>\n",
       "      <th>Volume</th>\n",
       "      <th>Dividend</th>\n",
       "      <th>Split</th>\n",
       "      <th>Adj_Open</th>\n",
       "      <th>Adj_High</th>\n",
       "      <th>Adj_Low</th>\n",
       "      <th>Adj_Close</th>\n",
       "      <th>Adj_Volume</th>\n",
       "    </tr>\n",
       "    <tr>\n",
       "      <th>Date</th>\n",
       "      <th></th>\n",
       "      <th></th>\n",
       "      <th></th>\n",
       "      <th></th>\n",
       "      <th></th>\n",
       "      <th></th>\n",
       "      <th></th>\n",
       "      <th></th>\n",
       "      <th></th>\n",
       "      <th></th>\n",
       "      <th></th>\n",
       "      <th></th>\n",
       "    </tr>\n",
       "  </thead>\n",
       "  <tbody>\n",
       "    <tr>\n",
       "      <th>2015-01-02</th>\n",
       "      <td>94.91</td>\n",
       "      <td>95.280</td>\n",
       "      <td>92.8486</td>\n",
       "      <td>93.75</td>\n",
       "      <td>5865382.0</td>\n",
       "      <td>0.0</td>\n",
       "      <td>1.0</td>\n",
       "      <td>89.546606</td>\n",
       "      <td>89.895698</td>\n",
       "      <td>87.601697</td>\n",
       "      <td>88.452158</td>\n",
       "      <td>5865382.0</td>\n",
       "    </tr>\n",
       "    <tr>\n",
       "      <th>2015-01-05</th>\n",
       "      <td>93.28</td>\n",
       "      <td>93.350</td>\n",
       "      <td>91.7800</td>\n",
       "      <td>92.38</td>\n",
       "      <td>7789422.0</td>\n",
       "      <td>0.0</td>\n",
       "      <td>1.0</td>\n",
       "      <td>88.008718</td>\n",
       "      <td>88.074762</td>\n",
       "      <td>86.593484</td>\n",
       "      <td>87.159577</td>\n",
       "      <td>7789422.0</td>\n",
       "    </tr>\n",
       "    <tr>\n",
       "      <th>2015-01-06</th>\n",
       "      <td>92.57</td>\n",
       "      <td>93.191</td>\n",
       "      <td>91.1570</td>\n",
       "      <td>91.89</td>\n",
       "      <td>6802241.0</td>\n",
       "      <td>0.0</td>\n",
       "      <td>1.0</td>\n",
       "      <td>87.338840</td>\n",
       "      <td>87.924748</td>\n",
       "      <td>86.005690</td>\n",
       "      <td>86.697267</td>\n",
       "      <td>6802241.0</td>\n",
       "    </tr>\n",
       "    <tr>\n",
       "      <th>2015-01-07</th>\n",
       "      <td>92.72</td>\n",
       "      <td>93.150</td>\n",
       "      <td>92.1000</td>\n",
       "      <td>92.83</td>\n",
       "      <td>6589438.0</td>\n",
       "      <td>0.0</td>\n",
       "      <td>1.0</td>\n",
       "      <td>87.480364</td>\n",
       "      <td>87.886064</td>\n",
       "      <td>86.895400</td>\n",
       "      <td>87.584148</td>\n",
       "      <td>6589438.0</td>\n",
       "    </tr>\n",
       "    <tr>\n",
       "      <th>2015-01-08</th>\n",
       "      <td>93.87</td>\n",
       "      <td>94.300</td>\n",
       "      <td>93.5550</td>\n",
       "      <td>93.79</td>\n",
       "      <td>7571727.0</td>\n",
       "      <td>0.0</td>\n",
       "      <td>1.0</td>\n",
       "      <td>88.565377</td>\n",
       "      <td>88.971078</td>\n",
       "      <td>88.268178</td>\n",
       "      <td>88.489898</td>\n",
       "      <td>7571727.0</td>\n",
       "    </tr>\n",
       "  </tbody>\n",
       "</table>\n",
       "</div>"
      ],
      "text/plain": [
       "             Open    High      Low  Close     Volume  Dividend  Split  \\\n",
       "Date                                                                    \n",
       "2015-01-02  94.91  95.280  92.8486  93.75  5865382.0       0.0    1.0   \n",
       "2015-01-05  93.28  93.350  91.7800  92.38  7789422.0       0.0    1.0   \n",
       "2015-01-06  92.57  93.191  91.1570  91.89  6802241.0       0.0    1.0   \n",
       "2015-01-07  92.72  93.150  92.1000  92.83  6589438.0       0.0    1.0   \n",
       "2015-01-08  93.87  94.300  93.5550  93.79  7571727.0       0.0    1.0   \n",
       "\n",
       "             Adj_Open   Adj_High    Adj_Low  Adj_Close  Adj_Volume  \n",
       "Date                                                                \n",
       "2015-01-02  89.546606  89.895698  87.601697  88.452158   5865382.0  \n",
       "2015-01-05  88.008718  88.074762  86.593484  87.159577   7789422.0  \n",
       "2015-01-06  87.338840  87.924748  86.005690  86.697267   6802241.0  \n",
       "2015-01-07  87.480364  87.886064  86.895400  87.584148   6589438.0  \n",
       "2015-01-08  88.565377  88.971078  88.268178  88.489898   7571727.0  "
      ]
     },
     "execution_count": 2,
     "metadata": {},
     "output_type": "execute_result"
    }
   ],
   "source": [
    "disney = quandl.get(\"EOD/DIS\", authtoken=\"nUnXVC-wyxYCVreWU7nY\", start_date=\"2015-01-01\")\n",
    "disney.head()"
   ]
  },
  {
   "cell_type": "code",
   "execution_count": 3,
   "metadata": {},
   "outputs": [
    {
     "data": {
      "text/html": [
       "<div>\n",
       "<style scoped>\n",
       "    .dataframe tbody tr th:only-of-type {\n",
       "        vertical-align: middle;\n",
       "    }\n",
       "\n",
       "    .dataframe tbody tr th {\n",
       "        vertical-align: top;\n",
       "    }\n",
       "\n",
       "    .dataframe thead th {\n",
       "        text-align: right;\n",
       "    }\n",
       "</style>\n",
       "<table border=\"1\" class=\"dataframe\">\n",
       "  <thead>\n",
       "    <tr style=\"text-align: right;\">\n",
       "      <th></th>\n",
       "      <th>Open</th>\n",
       "      <th>High</th>\n",
       "      <th>Low</th>\n",
       "      <th>Close</th>\n",
       "      <th>Volume</th>\n",
       "      <th>Dividend</th>\n",
       "      <th>Split</th>\n",
       "      <th>Adj_Open</th>\n",
       "      <th>Adj_High</th>\n",
       "      <th>Adj_Low</th>\n",
       "      <th>Adj_Close</th>\n",
       "      <th>Adj_Volume</th>\n",
       "    </tr>\n",
       "    <tr>\n",
       "      <th>Date</th>\n",
       "      <th></th>\n",
       "      <th></th>\n",
       "      <th></th>\n",
       "      <th></th>\n",
       "      <th></th>\n",
       "      <th></th>\n",
       "      <th></th>\n",
       "      <th></th>\n",
       "      <th></th>\n",
       "      <th></th>\n",
       "      <th></th>\n",
       "      <th></th>\n",
       "    </tr>\n",
       "  </thead>\n",
       "  <tbody>\n",
       "    <tr>\n",
       "      <th>2015-01-02</th>\n",
       "      <td>46.66</td>\n",
       "      <td>47.4200</td>\n",
       "      <td>46.54</td>\n",
       "      <td>46.760</td>\n",
       "      <td>27913852.0</td>\n",
       "      <td>0.0</td>\n",
       "      <td>1.0</td>\n",
       "      <td>42.332549</td>\n",
       "      <td>43.022064</td>\n",
       "      <td>42.223679</td>\n",
       "      <td>42.423275</td>\n",
       "      <td>27913852.0</td>\n",
       "    </tr>\n",
       "    <tr>\n",
       "      <th>2015-01-05</th>\n",
       "      <td>46.37</td>\n",
       "      <td>46.7300</td>\n",
       "      <td>46.25</td>\n",
       "      <td>46.325</td>\n",
       "      <td>39673865.0</td>\n",
       "      <td>0.0</td>\n",
       "      <td>1.0</td>\n",
       "      <td>42.069445</td>\n",
       "      <td>42.396057</td>\n",
       "      <td>41.960575</td>\n",
       "      <td>42.028619</td>\n",
       "      <td>39673865.0</td>\n",
       "    </tr>\n",
       "    <tr>\n",
       "      <th>2015-01-06</th>\n",
       "      <td>46.38</td>\n",
       "      <td>46.7490</td>\n",
       "      <td>45.54</td>\n",
       "      <td>45.650</td>\n",
       "      <td>36447854.0</td>\n",
       "      <td>0.0</td>\n",
       "      <td>1.0</td>\n",
       "      <td>42.078518</td>\n",
       "      <td>42.413295</td>\n",
       "      <td>41.316423</td>\n",
       "      <td>41.416221</td>\n",
       "      <td>36447854.0</td>\n",
       "    </tr>\n",
       "    <tr>\n",
       "      <th>2015-01-07</th>\n",
       "      <td>45.98</td>\n",
       "      <td>46.4600</td>\n",
       "      <td>45.49</td>\n",
       "      <td>46.230</td>\n",
       "      <td>29114061.0</td>\n",
       "      <td>0.0</td>\n",
       "      <td>1.0</td>\n",
       "      <td>41.715616</td>\n",
       "      <td>42.151098</td>\n",
       "      <td>41.271060</td>\n",
       "      <td>41.942429</td>\n",
       "      <td>29114061.0</td>\n",
       "    </tr>\n",
       "    <tr>\n",
       "      <th>2015-01-08</th>\n",
       "      <td>46.75</td>\n",
       "      <td>47.7499</td>\n",
       "      <td>46.72</td>\n",
       "      <td>47.590</td>\n",
       "      <td>29645202.0</td>\n",
       "      <td>0.0</td>\n",
       "      <td>1.0</td>\n",
       "      <td>42.414202</td>\n",
       "      <td>43.321367</td>\n",
       "      <td>42.386985</td>\n",
       "      <td>43.176297</td>\n",
       "      <td>29645202.0</td>\n",
       "    </tr>\n",
       "  </tbody>\n",
       "</table>\n",
       "</div>"
      ],
      "text/plain": [
       "             Open     High    Low   Close      Volume  Dividend  Split  \\\n",
       "Date                                                                     \n",
       "2015-01-02  46.66  47.4200  46.54  46.760  27913852.0       0.0    1.0   \n",
       "2015-01-05  46.37  46.7300  46.25  46.325  39673865.0       0.0    1.0   \n",
       "2015-01-06  46.38  46.7490  45.54  45.650  36447854.0       0.0    1.0   \n",
       "2015-01-07  45.98  46.4600  45.49  46.230  29114061.0       0.0    1.0   \n",
       "2015-01-08  46.75  47.7499  46.72  47.590  29645202.0       0.0    1.0   \n",
       "\n",
       "             Adj_Open   Adj_High    Adj_Low  Adj_Close  Adj_Volume  \n",
       "Date                                                                \n",
       "2015-01-02  42.332549  43.022064  42.223679  42.423275  27913852.0  \n",
       "2015-01-05  42.069445  42.396057  41.960575  42.028619  39673865.0  \n",
       "2015-01-06  42.078518  42.413295  41.316423  41.416221  36447854.0  \n",
       "2015-01-07  41.715616  42.151098  41.271060  41.942429  29114061.0  \n",
       "2015-01-08  42.414202  43.321367  42.386985  43.176297  29645202.0  "
      ]
     },
     "execution_count": 3,
     "metadata": {},
     "output_type": "execute_result"
    }
   ],
   "source": [
    "micro = quandl.get(\"EOD/MSFT\", authtoken=\"nUnXVC-wyxYCVreWU7nY\", start_date=\"2015-01-01\")\n",
    "micro.head()"
   ]
  },
  {
   "cell_type": "code",
   "execution_count": 5,
   "metadata": {},
   "outputs": [
    {
     "data": {
      "text/html": [
       "<div>\n",
       "<style scoped>\n",
       "    .dataframe tbody tr th:only-of-type {\n",
       "        vertical-align: middle;\n",
       "    }\n",
       "\n",
       "    .dataframe tbody tr th {\n",
       "        vertical-align: top;\n",
       "    }\n",
       "\n",
       "    .dataframe thead th {\n",
       "        text-align: right;\n",
       "    }\n",
       "</style>\n",
       "<table border=\"1\" class=\"dataframe\">\n",
       "  <thead>\n",
       "    <tr style=\"text-align: right;\">\n",
       "      <th></th>\n",
       "      <th>Open</th>\n",
       "      <th>High</th>\n",
       "      <th>Low</th>\n",
       "      <th>Close</th>\n",
       "      <th>Volume</th>\n",
       "      <th>Dividend</th>\n",
       "      <th>Split</th>\n",
       "      <th>Adj_Open</th>\n",
       "      <th>Adj_High</th>\n",
       "      <th>Adj_Low</th>\n",
       "      <th>Adj_Close</th>\n",
       "      <th>Adj_Volume</th>\n",
       "    </tr>\n",
       "    <tr>\n",
       "      <th>Date</th>\n",
       "      <th></th>\n",
       "      <th></th>\n",
       "      <th></th>\n",
       "      <th></th>\n",
       "      <th></th>\n",
       "      <th></th>\n",
       "      <th></th>\n",
       "      <th></th>\n",
       "      <th></th>\n",
       "      <th></th>\n",
       "      <th></th>\n",
       "      <th></th>\n",
       "    </tr>\n",
       "  </thead>\n",
       "  <tbody>\n",
       "    <tr>\n",
       "      <th>2015-01-02</th>\n",
       "      <td>131.07</td>\n",
       "      <td>131.8400</td>\n",
       "      <td>129.09</td>\n",
       "      <td>129.95</td>\n",
       "      <td>4293748.0</td>\n",
       "      <td>0.0</td>\n",
       "      <td>1.0</td>\n",
       "      <td>117.321450</td>\n",
       "      <td>118.010682</td>\n",
       "      <td>115.549142</td>\n",
       "      <td>116.318933</td>\n",
       "      <td>4293748.0</td>\n",
       "    </tr>\n",
       "    <tr>\n",
       "      <th>2015-01-05</th>\n",
       "      <td>129.66</td>\n",
       "      <td>129.9199</td>\n",
       "      <td>128.61</td>\n",
       "      <td>129.05</td>\n",
       "      <td>5024782.0</td>\n",
       "      <td>0.0</td>\n",
       "      <td>1.0</td>\n",
       "      <td>116.059352</td>\n",
       "      <td>116.291990</td>\n",
       "      <td>115.119491</td>\n",
       "      <td>115.513338</td>\n",
       "      <td>5024782.0</td>\n",
       "    </tr>\n",
       "    <tr>\n",
       "      <th>2015-01-06</th>\n",
       "      <td>129.05</td>\n",
       "      <td>129.6200</td>\n",
       "      <td>126.18</td>\n",
       "      <td>127.53</td>\n",
       "      <td>4992189.0</td>\n",
       "      <td>0.0</td>\n",
       "      <td>1.0</td>\n",
       "      <td>115.513338</td>\n",
       "      <td>116.023548</td>\n",
       "      <td>112.944386</td>\n",
       "      <td>114.152778</td>\n",
       "      <td>4992189.0</td>\n",
       "    </tr>\n",
       "    <tr>\n",
       "      <th>2015-01-07</th>\n",
       "      <td>128.74</td>\n",
       "      <td>129.9700</td>\n",
       "      <td>128.72</td>\n",
       "      <td>129.51</td>\n",
       "      <td>3573197.0</td>\n",
       "      <td>0.0</td>\n",
       "      <td>1.0</td>\n",
       "      <td>115.235855</td>\n",
       "      <td>116.336835</td>\n",
       "      <td>115.217953</td>\n",
       "      <td>115.925086</td>\n",
       "      <td>3573197.0</td>\n",
       "    </tr>\n",
       "    <tr>\n",
       "      <th>2015-01-08</th>\n",
       "      <td>130.60</td>\n",
       "      <td>131.9850</td>\n",
       "      <td>130.40</td>\n",
       "      <td>131.80</td>\n",
       "      <td>4498923.0</td>\n",
       "      <td>0.0</td>\n",
       "      <td>1.0</td>\n",
       "      <td>116.900751</td>\n",
       "      <td>118.140472</td>\n",
       "      <td>116.721730</td>\n",
       "      <td>117.974877</td>\n",
       "      <td>4498923.0</td>\n",
       "    </tr>\n",
       "  </tbody>\n",
       "</table>\n",
       "</div>"
      ],
      "text/plain": [
       "              Open      High     Low   Close     Volume  Dividend  Split  \\\n",
       "Date                                                                       \n",
       "2015-01-02  131.07  131.8400  129.09  129.95  4293748.0       0.0    1.0   \n",
       "2015-01-05  129.66  129.9199  128.61  129.05  5024782.0       0.0    1.0   \n",
       "2015-01-06  129.05  129.6200  126.18  127.53  4992189.0       0.0    1.0   \n",
       "2015-01-07  128.74  129.9700  128.72  129.51  3573197.0       0.0    1.0   \n",
       "2015-01-08  130.60  131.9850  130.40  131.80  4498923.0       0.0    1.0   \n",
       "\n",
       "              Adj_Open    Adj_High     Adj_Low   Adj_Close  Adj_Volume  \n",
       "Date                                                                    \n",
       "2015-01-02  117.321450  118.010682  115.549142  116.318933   4293748.0  \n",
       "2015-01-05  116.059352  116.291990  115.119491  115.513338   5024782.0  \n",
       "2015-01-06  115.513338  116.023548  112.944386  114.152778   4992189.0  \n",
       "2015-01-07  115.235855  116.336835  115.217953  115.925086   3573197.0  \n",
       "2015-01-08  116.900751  118.140472  116.721730  117.974877   4498923.0  "
      ]
     },
     "execution_count": 5,
     "metadata": {},
     "output_type": "execute_result"
    }
   ],
   "source": [
    "boeing = quandl.get(\"EOD/BA\", authtoken=\"nUnXVC-wyxYCVreWU7nY\", start_date=\"2015-01-01\")\n",
    "boeing.head()"
   ]
  },
  {
   "cell_type": "markdown",
   "metadata": {},
   "source": [
    "Now let's use the same approach to get the training, validation, test data from the original dataframe. To make it simple, let's just write a function for it. This function is completely the same with what we do in chapter 1."
   ]
  },
  {
   "cell_type": "code",
   "execution_count": 59,
   "metadata": {},
   "outputs": [],
   "source": [
    "from sklearn.preprocessing import MinMaxScaler\n",
    "scaler = MinMaxScaler(feature_range=(0,1))\n",
    "\n",
    "def get_train_and_test_data(df):    \n",
    "    df['Date'] = pd.to_datetime(df.index,format='%Y-%m-%d')\n",
    "    data = df.sort_index(ascending=True, axis=0)\n",
    "    new_data = pd.DataFrame(index=range(0,len(df)),columns=['Date', 'Close'])\n",
    "    for i in range(0,len(data)):\n",
    "        new_data['Date'][i] = data['Date'][i]\n",
    "        new_data['Close'][i] = data['Close'][i]\n",
    "\n",
    "    #setting index\n",
    "    new_data.index = new_data.Date\n",
    "    new_data.drop('Date', axis=1, inplace=True)\n",
    "\n",
    "    #creating train and test sets\n",
    "    dataset = new_data.values\n",
    "\n",
    "    train = dataset[0:960,:]\n",
    "    valid = dataset[960:,:]  \n",
    "    \n",
    "    scaled_data = scaler.fit_transform(dataset)\n",
    "    \n",
    "    x_train, y_train = [], []\n",
    "    for i in range(60,len(train)):\n",
    "        x_train.append(scaled_data[i-60:i,0])\n",
    "        y_train.append(scaled_data[i,0])\n",
    "    x_train, y_train = np.array(x_train), np.array(y_train)\n",
    "    # reshape to feed into LSTM\n",
    "    x_train = np.reshape(x_train, (x_train.shape[0],x_train.shape[1],1))\n",
    "    \n",
    "    inputs = new_data[len(new_data) - len(valid) - 60:].values\n",
    "    inputs = inputs.reshape(-1,1)    \n",
    "    inputs = scaler.transform(inputs)    \n",
    "    \n",
    "    x_test = []\n",
    "    for i in range(60, inputs.shape[0]):\n",
    "        x_test.append(inputs[i-60:i,0])\n",
    "    x_test = np.array(x_test)\n",
    "    x_test = np.reshape(x_test, (x_test.shape[0],x_test.shape[1],1))\n",
    "    # (1000, 1000, valid, valid)\n",
    "    return x_train, y_train, x_test, valid, new_data[:960], new_data[960:]"
   ]
  },
  {
   "cell_type": "code",
   "execution_count": 60,
   "metadata": {},
   "outputs": [
    {
     "name": "stderr",
     "output_type": "stream",
     "text": [
      "/home/litchy/Programs/anaconda3/lib/python3.6/site-packages/sklearn/utils/validation.py:595: DataConversionWarning: Data with input dtype object was converted to float64 by MinMaxScaler.\n",
      "  warnings.warn(msg, DataConversionWarning)\n"
     ]
    },
    {
     "data": {
      "text/plain": [
       "((900, 60, 1), (900,), (104, 60, 1), (104, 1))"
      ]
     },
     "execution_count": 60,
     "metadata": {},
     "output_type": "execute_result"
    }
   ],
   "source": [
    "d_train_x, d_train_y, d_test_x, d_test_y, d_td, d_vd = get_train_and_test_data(disney)\n",
    "d_train_x.shape, d_train_y.shape, d_test_x.shape, d_test_y.shape"
   ]
  },
  {
   "cell_type": "markdown",
   "metadata": {},
   "source": [
    "Seems no problem! Let's get the other two:"
   ]
  },
  {
   "cell_type": "code",
   "execution_count": 45,
   "metadata": {},
   "outputs": [
    {
     "name": "stderr",
     "output_type": "stream",
     "text": [
      "Using TensorFlow backend.\n"
     ]
    }
   ],
   "source": [
    "from keras.models import Sequential\n",
    "from keras.layers import Dense, Dropout, LSTM"
   ]
  },
  {
   "cell_type": "markdown",
   "metadata": {},
   "source": [
    "In chapter 1 we saw LSTM predict that data nearly perfectly, but we don't know whether it is a coincidence. So we use the model to predict just 1 stock before we do it on 3. Let's predict Disney:"
   ]
  },
  {
   "cell_type": "code",
   "execution_count": 47,
   "metadata": {},
   "outputs": [
    {
     "name": "stdout",
     "output_type": "stream",
     "text": [
      "Epoch 1/4\n",
      " - 44s - loss: 0.0071\n",
      "Epoch 2/4\n",
      " - 46s - loss: 0.0034\n",
      "Epoch 3/4\n",
      " - 46s - loss: 0.0026\n",
      "Epoch 4/4\n",
      " - 46s - loss: 0.0019\n"
     ]
    },
    {
     "data": {
      "text/plain": [
       "<keras.callbacks.History at 0x7f3198082f98>"
      ]
     },
     "execution_count": 47,
     "metadata": {},
     "output_type": "execute_result"
    }
   ],
   "source": [
    "model = Sequential()\n",
    "model.add(LSTM(units=50, return_sequences=True, input_shape=(d_train_x.shape[1],1)))\n",
    "model.add(LSTM(units=50))\n",
    "model.add(Dense(1))\n",
    "\n",
    "model.compile(loss='mean_squared_error', optimizer='adam')\n",
    "model.fit(d_train_x, d_train_y, epochs=4, batch_size=1, verbose=2)"
   ]
  },
  {
   "cell_type": "markdown",
   "metadata": {},
   "source": [
    "Let's just do the predict first and see how it performs:"
   ]
  },
  {
   "cell_type": "code",
   "execution_count": 64,
   "metadata": {},
   "outputs": [
    {
     "data": {
      "text/plain": [
       "[<matplotlib.lines.Line2D at 0x7f31744724a8>,\n",
       " <matplotlib.lines.Line2D at 0x7f3174472630>]"
      ]
     },
     "execution_count": 64,
     "metadata": {},
     "output_type": "execute_result"
    },
    {
     "data": {
      "image/png": "[encoded data removed]",
      "text/plain": [
       "<Figure size 1440x720 with 1 Axes>"
      ]
     },
     "metadata": {
      "needs_background": "light"
     },
     "output_type": "display_data"
    }
   ],
   "source": [
    "disney_one = np.zeros((104,1))\n",
    "disney_cp = np.copy(d_test_x)\n",
    "for i in range(disney_cp.shape[0]):\n",
    "    disney_one[i][0] = model.predict(disney_cp[i].reshape(1, -1, 1))[0][0]\n",
    "    if i < disney_cp.shape[0] - 1:\n",
    "        disney_cp[i+1][-1][0] = disney_one[i][0]\n",
    "        # print (X_2[i+1])    \n",
    "\n",
    "#closing_price = model.predict(X_test)\n",
    "disney_one = scaler.inverse_transform(disney_one)\n",
    "d_vd['OneDisney'] = disney_one\n",
    "plt.plot(d_td['Close'])\n",
    "plt.plot(d_vd[['Close', 'OneDisney']])"
   ]
  },
  {
   "cell_type": "markdown",
   "metadata": {},
   "source": [
    "Not as amazing as what we did in chapter 1, right? You can see this Disney stock stayed in a relatively small range (90, 120). And it seems oscillates more heavily."
   ]
  },
  {
   "cell_type": "code",
   "execution_count": null,
   "metadata": {},
   "outputs": [],
   "source": [
    "m_train_x, m_train_y, m_test_x, m_test_y = get_train_and_test_data(micro)\n",
    "b_train_x, b_train_y, b_test_x, b_test_y = get_train_and_test_data(boeing)"
   ]
  }
 ],
 "metadata": {
  "kernelspec": {
   "display_name": "Python 3",
   "language": "python",
   "name": "python3"
  },
  "language_info": {
   "codemirror_mode": {
    "name": "ipython",
    "version": 3
   },
   "file_extension": ".py",
   "mimetype": "text/x-python",
   "name": "python",
   "nbconvert_exporter": "python",
   "pygments_lexer": "ipython3",
   "version": "3.6.8"
  }
 },
 "nbformat": 4,
 "nbformat_minor": 2
}
