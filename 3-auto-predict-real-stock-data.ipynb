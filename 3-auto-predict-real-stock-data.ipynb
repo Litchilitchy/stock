{
 "cells": [
  {
   "cell_type": "markdown",
   "metadata": {},
   "source": [
    "Okay! This is the last chapter. When we finish this we finish the whole project and we are able to automatically help us with investing stocks WOW!\n",
    "\n",
    "So this time let's make it straight forward. Note that this notebook is for better understanding, we finally need to separate our code in some python files. So let's first write the import module `module.py`"
   ]
  },
  {
   "cell_type": "code",
   "execution_count": 1,
   "metadata": {},
   "outputs": [
    {
     "name": "stderr",
     "output_type": "stream",
     "text": [
      "Using TensorFlow backend.\n"
     ]
    }
   ],
   "source": [
    "# module.py\n",
    "import quandl\n",
    "import pandas as pd\n",
    "import numpy as np\n",
    "import matplotlib.pyplot as plt\n",
    "from sklearn.preprocessing import MinMaxScaler\n",
    "from keras.models import Sequential\n",
    "from keras.layers import Dense, Dropout, LSTM"
   ]
  },
  {
   "cell_type": "markdown",
   "metadata": {},
   "source": [
    "And let's recall the data processing methods in `preprocess.py`.\n",
    "\n",
    "There are several things need to notice, we do not need to split the data into train and validation now. Instead, we just use all the newest data as training data and use them to train the model. Then, we could make a next-90-days prediction, based on the last 60 days of data. "
   ]
  },
  {
   "cell_type": "code",
   "execution_count": 23,
   "metadata": {},
   "outputs": [],
   "source": [
    "# preprocess.py\n",
    "from sklearn.preprocessing import MinMaxScaler\n",
    "def get_train_and_test_data(df):    \n",
    "    df['Date'] = pd.to_datetime(df.index,format='%Y-%m-%d')\n",
    "    data = df.sort_index(ascending=True, axis=0)\n",
    "    new_data = pd.DataFrame(index=range(0,len(df)),columns=['Date', 'Close'])\n",
    "    for i in range(0,len(data)):\n",
    "        new_data['Date'][i] = data['Date'][i]\n",
    "        new_data['Close'][i] = data['Close'][i]\n",
    "\n",
    "    #setting index\n",
    "    new_data.index = new_data.Date\n",
    "    new_data.drop('Date', axis=1, inplace=True)\n",
    "\n",
    "    #creating train and test sets\n",
    "    dataset = new_data.values\n",
    "\n",
    "    train = dataset\n",
    "    #valid = dataset[960:,:]  \n",
    "    \n",
    "    scaler = MinMaxScaler(feature_range=(0,1))\n",
    "    scaled_data = scaler.fit_transform(dataset)\n",
    "    \n",
    "    x_train, y_train = [], []\n",
    "    for i in range(60,len(train)):\n",
    "        x_train.append(scaled_data[i-60:i,0])\n",
    "        y_train.append(scaled_data[i,0])\n",
    "    x_train, y_train = np.array(x_train), np.array(y_train)\n",
    "    # reshape to feed into LSTM\n",
    "    x_train = np.reshape(x_train, (x_train.shape[0],x_train.shape[1],1))\n",
    "    \n",
    "    '''\n",
    "    inputs = new_data[len(new_data) - 90 - 60:].values\n",
    "    inputs = inputs.reshape(-1,1)    \n",
    "    inputs = scaler.transform(inputs)    \n",
    "    \n",
    "    x_test = []\n",
    "    for i in range(60, inputs.shape[0]):\n",
    "        x_test.append(inputs[i-60:i,0])\n",
    "        \n",
    "    x_test = np.array(x_test)\n",
    "    x_test = np.reshape(x_test, (x_test.shape[0],x_test.shape[1],1))\n",
    "    '''    \n",
    "    x_test = scaled_data[-60:,0]\n",
    "    print (\"test shape is: \", x_test.shape)        \n",
    "    \n",
    "    return x_train, y_train, x_test, train[-1], new_data, scaler\n",
    "\n",
    "\n",
    "def test_and_plot(model, test, hist, scaler, length=90):\n",
    "    res = np.zeros((length,1))\n",
    "    '''\n",
    "    cp = np.copy(test)\n",
    "    for i in range(cp.shape[0]):\n",
    "        res[i][0] = model.predict(cp[i].reshape(1, -1, 1))[0][0]\n",
    "        if i < cp.shape[0] - 1:\n",
    "            cp[i+1][-1][0] = res[i][0]\n",
    "            # print (X_2[i+1])    \n",
    "\n",
    "    #closing_price = model.predict(X_test)\n",
    "    '''\n",
    "    for i in range(length):\n",
    "        res[i][0] = model.predict(test.reshape(1, -1, 1))[0][0]\n",
    "        test = test[1:]\n",
    "        test = np.append(test, res[i][0])    \n",
    "    \n",
    "    res = scaler.inverse_transform(res)\n",
    "    plt.plot(hist['Close'])\n",
    "    plt.show()\n",
    "    plt.plot(res)\n",
    "    plt.show()\n",
    "    return res"
   ]
  },
  {
   "cell_type": "code",
   "execution_count": 24,
   "metadata": {},
   "outputs": [],
   "source": [
    "def m(code, token):\n",
    "    df = quandl.get(code, authtoken=token, start_date=\"2015-01-01\")\n",
    "    train_x, train_y, test_x, current, hist, scal = get_train_and_test_data(df)\n",
    "    \n",
    "    model = Sequential()\n",
    "    model.add(LSTM(units=50, return_sequences=True, input_shape=(train_x.shape[1],1)))\n",
    "    model.add(LSTM(units=50))\n",
    "    model.add(Dense(1))\n",
    "    model.compile(loss='mean_squared_error', optimizer='adam')\n",
    "    model.fit(train_x, train_y, epochs=4, batch_size=1, verbose=2)\n",
    "    \n",
    "    res = test_and_plot(model, test_x, hist, scal)"
   ]
  },
  {
   "cell_type": "code",
   "execution_count": 25,
   "metadata": {},
   "outputs": [
    {
     "name": "stderr",
     "output_type": "stream",
     "text": [
      "/home/litchy/Programs/anaconda3/lib/python3.6/site-packages/sklearn/utils/validation.py:595: DataConversionWarning: Data with input dtype object was converted to float64 by MinMaxScaler.\n",
      "  warnings.warn(msg, DataConversionWarning)\n"
     ]
    },
    {
     "name": "stdout",
     "output_type": "stream",
     "text": [
      "test shape is:  (60,)\n",
      "Epoch 1/4\n",
      " - 53s - loss: 0.0069\n",
      "Epoch 2/4\n",
      " - 52s - loss: 0.0032\n",
      "Epoch 3/4\n",
      " - 55s - loss: 0.0024\n",
      "Epoch 4/4\n",
      " - 63s - loss: 0.0023\n"
     ]
    },
    {
     "data": {
      "image/png": "[encoded data removed]",
      "text/plain": [
       "<Figure size 432x288 with 1 Axes>"
      ]
     },
     "metadata": {
      "needs_background": "light"
     },
     "output_type": "display_data"
    },
    {
     "data": {
      "image/png": "[encoded data removed]",
      "text/plain": [
       "<Figure size 432x288 with 1 Axes>"
      ]
     },
     "metadata": {
      "needs_background": "light"
     },
     "output_type": "display_data"
    }
   ],
   "source": [
    "m(\"EOD/DIS\", \"nUnXVC-wyxYCVreWU7nY\")"
   ]
  },
  {
   "cell_type": "code",
   "execution_count": null,
   "metadata": {},
   "outputs": [],
   "source": []
  }
 ],
 "metadata": {
  "kernelspec": {
   "display_name": "Python 3",
   "language": "python",
   "name": "python3"
  },
  "language_info": {
   "codemirror_mode": {
    "name": "ipython",
    "version": 3
   },
   "file_extension": ".py",
   "mimetype": "text/x-python",
   "name": "python",
   "nbconvert_exporter": "python",
   "pygments_lexer": "ipython3",
   "version": "3.6.8"
  }
 },
 "nbformat": 4,
 "nbformat_minor": 2
}
